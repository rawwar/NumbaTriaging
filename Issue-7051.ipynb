{
 "cells": [
  {
   "cell_type": "code",
   "execution_count": 2,
   "id": "superior-hughes",
   "metadata": {},
   "outputs": [
    {
     "name": "stdout",
     "output_type": "stream",
     "text": [
      "Collecting package metadata (current_repodata.json): done\n",
      "Solving environment: done\n",
      "\n",
      "\n",
      "==> WARNING: A newer version of conda exists. <==\n",
      "  current version: 4.9.2\n",
      "  latest version: 4.10.1\n",
      "\n",
      "Please update conda by running\n",
      "\n",
      "    $ conda update -n base conda\n",
      "\n",
      "\n",
      "\n",
      "## Package Plan ##\n",
      "\n",
      "  environment location: /srv/conda/envs/notebook\n",
      "\n",
      "  added / updated specs:\n",
      "    - numba\n",
      "\n",
      "\n",
      "The following packages will be downloaded:\n",
      "\n",
      "    package                    |            build\n",
      "    ---------------------------|-----------------\n",
      "    libblas-3.9.0              |       9_openblas          11 KB  conda-forge\n",
      "    libcblas-3.9.0             |       9_openblas          11 KB  conda-forge\n",
      "    libgfortran-ng-9.3.0       |      hff62375_19          22 KB  conda-forge\n",
      "    libgfortran5-9.3.0         |      hff62375_19         2.0 MB  conda-forge\n",
      "    liblapack-3.9.0            |       9_openblas          11 KB  conda-forge\n",
      "    libllvm10-10.0.1           |       he513fc3_3        26.4 MB  conda-forge\n",
      "    libopenblas-0.3.15         |pthreads_h8fe5266_1         9.2 MB  conda-forge\n",
      "    llvmlite-0.36.0            |   py37h9d7f4d0_0         2.7 MB  conda-forge\n",
      "    numba-0.53.1               |   py37h134767a_0         3.7 MB  conda-forge\n",
      "    numpy-1.20.3               |   py37h038b26d_0         5.7 MB  conda-forge\n",
      "    openssl-1.1.1k             |       h7f98852_0         2.1 MB  conda-forge\n",
      "    ------------------------------------------------------------\n",
      "                                           Total:        51.8 MB\n",
      "\n",
      "The following NEW packages will be INSTALLED:\n",
      "\n",
      "  libblas            conda-forge/linux-64::libblas-3.9.0-9_openblas\n",
      "  libcblas           conda-forge/linux-64::libcblas-3.9.0-9_openblas\n",
      "  libgfortran-ng     conda-forge/linux-64::libgfortran-ng-9.3.0-hff62375_19\n",
      "  libgfortran5       conda-forge/linux-64::libgfortran5-9.3.0-hff62375_19\n",
      "  liblapack          conda-forge/linux-64::liblapack-3.9.0-9_openblas\n",
      "  libllvm10          conda-forge/linux-64::libllvm10-10.0.1-he513fc3_3\n",
      "  libopenblas        conda-forge/linux-64::libopenblas-0.3.15-pthreads_h8fe5266_1\n",
      "  llvmlite           conda-forge/linux-64::llvmlite-0.36.0-py37h9d7f4d0_0\n",
      "  numba              conda-forge/linux-64::numba-0.53.1-py37h134767a_0\n",
      "  numpy              conda-forge/linux-64::numpy-1.20.3-py37h038b26d_0\n",
      "\n",
      "The following packages will be UPDATED:\n",
      "\n",
      "  openssl                                 1.1.1j-h7f98852_0 --> 1.1.1k-h7f98852_0\n",
      "\n",
      "\n",
      "\n",
      "Downloading and Extracting Packages\n",
      "libblas-3.9.0        | 11 KB     | ##################################### | 100% \n",
      "libgfortran5-9.3.0   | 2.0 MB    | ##################################### | 100% \n",
      "openssl-1.1.1k       | 2.1 MB    | ##################################### | 100% \n",
      "liblapack-3.9.0      | 11 KB     | ##################################### | 100% \n",
      "llvmlite-0.36.0      | 2.7 MB    | ##################################### | 100% \n",
      "numpy-1.20.3         | 5.7 MB    | ##################################### | 100% \n",
      "numba-0.53.1         | 3.7 MB    | ##################################### | 100% \n",
      "libopenblas-0.3.15   | 9.2 MB    | ##################################### | 100% \n",
      "libcblas-3.9.0       | 11 KB     | ##################################### | 100% \n",
      "libgfortran-ng-9.3.0 | 22 KB     | ##################################### | 100% \n",
      "libllvm10-10.0.1     | 26.4 MB   | ##################################### | 100% \n",
      "Preparing transaction: done\n",
      "Verifying transaction: done\n",
      "Executing transaction: done\n"
     ]
    }
   ],
   "source": [
    "!conda install numba -y"
   ]
  },
  {
   "cell_type": "code",
   "execution_count": 4,
   "id": "apart-survival",
   "metadata": {},
   "outputs": [
    {
     "name": "stdout",
     "output_type": "stream",
     "text": [
      "serial  (size=  1), should be 1.0: 1.0\n",
      "parallel(size=  1), should be 1.0: 1.0\n",
      "serial  (size= 10), should be 1.0: 1.0\n",
      "parallel(size= 10), should be 1.0: 1.0\n",
      "serial  (size=100), should be 1.0: 1.0\n",
      "parallel(size=100), should be 1.0: 1.0\n",
      "omp\n"
     ]
    }
   ],
   "source": [
    "\n",
    "import numpy as np\n",
    "from numba import njit, prange, threading_layer\n",
    "@njit(parallel=True)\n",
    "def case_parallel(size,case):\n",
    "    result = np.zeros((size,))\n",
    "    if case == 1:\n",
    "        for i in prange(size):\n",
    "            result[i] += 1\n",
    "    else:\n",
    "        for i in prange(size):\n",
    "            result[i] += 2\n",
    "    return result.mean()\n",
    "@njit(parallel=False)\n",
    "def case_serial(size,case):\n",
    "    result = np.zeros((size,))\n",
    "    if case == 1:\n",
    "        for i in prange(size):\n",
    "            result[i] += 1\n",
    "    else:\n",
    "        for i in prange(size):\n",
    "            result[i] += 2\n",
    "    return result.mean()\n",
    "for size in [1,10,100]:\n",
    "    print(f'serial  (size={size:3}), should be 1.0: {case_serial(size=size,case=1)}')\n",
    "    print(f'parallel(size={size:3}), should be 1.0: {case_parallel(size=size,case=1)}')\n",
    "print(\"Threading layer = \", threading_layer())\n"
   ]
  },
  {
   "cell_type": "code",
   "execution_count": null,
   "id": "simplified-victoria",
   "metadata": {},
   "outputs": [],
   "source": []
  }
 ],
 "metadata": {
  "kernelspec": {
   "display_name": "Python 3",
   "language": "python",
   "name": "python3"
  },
  "language_info": {
   "codemirror_mode": {
    "name": "ipython",
    "version": 3
   },
   "file_extension": ".py",
   "mimetype": "text/x-python",
   "name": "python",
   "nbconvert_exporter": "python",
   "pygments_lexer": "ipython3",
   "version": "3.7.10"
  }
 },
 "nbformat": 4,
 "nbformat_minor": 5
}
